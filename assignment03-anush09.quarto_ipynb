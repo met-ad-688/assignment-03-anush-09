{
 "cells": [
  {
   "cell_type": "markdown",
   "id": "42604b8e",
   "metadata": {},
   "source": [
    "---\n",
    "title: Assignment 03\n",
    "author:\n",
    "  - name: Anu Sharma\n",
    "    affiliations:\n",
    "      - id: anush09\n",
    "        name: Boston University\n",
    "        city: Boston\n",
    "        state: MA\n",
    "number-sections: true\n",
    "date: '2025-09-21'\n",
    "format:\n",
    "  html:\n",
    "    theme: cerulean\n",
    "    toc: true\n",
    "    toc-depth: 2\n",
    "date-modified: today\n",
    "date-format: long\n",
    "execute:\n",
    "  echo: false\n",
    "  eval: true\n",
    "  freeze: auto\n",
    "---"
   ]
  },
  {
   "cell_type": "code",
   "execution_count": 1,
   "id": "058e7370",
   "metadata": {},
   "outputs": [],
   "source": [
    "#| eval: false\n",
    "#| echo: false\n",
    "#| output: true\n",
    "import pandas as pd\n",
    "import plotly.express as px\n",
    "import plotly.io as pio\n",
    "from pyspark.sql import SparkSession\n",
    "import re\n",
    "import numpy as np\n",
    "import plotly.graph_objects as go\n",
    "from pyspark.sql.functions import col, split, explode, regexp_replace, transform, when\n",
    "from pyspark.sql import functions as F\n",
    "from pyspark.sql.functions import col, monotonically_increasing_id\n",
    "\n",
    "np.random.seed(42)\n",
    "\n",
    "pio.renderers.default = \"notebook\"\n",
    "\n",
    "# Initialize Spark Session\n",
    "spark = SparkSession.builder.appName(\"LightcastData\").getOrCreate()\n",
    "\n",
    "# Load Data\n",
    "df = spark.read.option(\"header\", \"true\").option(\"inferSchema\", \"true\").option(\"multiLine\",\"true\").option(\"escape\", \"\\\"\").csv(\"./data/lightcast_job_postings.csv\")\n",
    "df.createOrReplaceTempView(\"job_postings\")\n",
    "\n",
    "# Show Schema and Sample Data\n",
    "print(\"---This is Diagnostic check, No need to print it in the final doc---\")\n",
    "\n",
    "# df.printSchema() # comment this line when rendering the submission\n",
    "df.show(5)\n",
    "\n",
    "from pyspark.sql.functions import col\n",
    "\n",
    "# Section 1.1\n",
    "# df_cleaned = df.withColumn(\"SALARY\", col(\"SALARY\").cast(\"double\")) \n",
    "# df_cleaned = df_cleaned.withColumn(\"SALARY_TO\", col(\"SALARY_TO\").cast(\"double\"))\n",
    "# df_cleaned = df_cleaned.withColumn(\"SALARY_FROM\", col(\"SALARY_FROM\").cast(\"double\"))\n",
    "# df_cleaned = df_cleaned.withColumn(\"MIN_YEARS_EXPERIENCE\", col(\"MIN_YEARS_EXPERIENCE\").cast(\"integer\"))\n",
    "# df_cleaned = df_cleaned.withColumn(\"MAX_YEARS_EXPERIENCE\", col(\"MAX_YEARS_EXPERIENCE\").cast(\"integer\"))\n",
    "# df_cleaned = df_cleaned.filter(col(\"SALARY\").isNotNull() & col(\"SALARY_TO\").isNotNull() & col(\"SALARY_FROM\").isNotNull() & col(\"MIN_YEARS_EXPERIENCE\").isNotNull() & col(\"MAX_YEARS_EXPERIENCE\").isNotNull())\n",
    "\n",
    "from pyspark.sql.functions import col\n",
    "\n",
    "df_cleaned = df \\\n",
    "    .withColumn(\"SALARY\", col(\"SALARY\").cast(\"integer\")) \\\n",
    "    .withColumn(\"SALARY_FROM\", col(\"SALARY_FROM\").cast(\"integer\")) \\\n",
    "    .withColumn(\"SALARY_TO\", col(\"SALARY_TO\").cast(\"integer\")) \\\n",
    "    .withColumn(\"MIN_YEARS_EXPERIENCE\", col(\"MIN_YEARS_EXPERIENCE\").cast(\"integer\")) \\\n",
    "    .withColumn(\"MAX_YEARS_EXPERIENCE\", col(\"MAX_YEARS_EXPERIENCE\").cast(\"integer\"))\n",
    "\n",
    "df_cleaned.show(5)\n",
    "\n",
    "# Section 1.2\n",
    "from pyspark.sql import functions as sf\n",
    "median_from = df_cleaned.approxQuantile(\"SALARY_FROM\", [0.5], 0.0)[0]\n",
    "median_to = df_cleaned.approxQuantile(\"SALARY_TO\", [0.5], 0.0)[0]\n",
    "median_salary = df_cleaned.approxQuantile(\"SALARY\", [0.5], 0.0)[0]\n",
    "\n",
    "print(\"Median From:\", median_from)\n",
    "print(\"Median To:\", median_to)\n",
    "print(\"Median Salary:\", median_salary)\n",
    "\n",
    "# Section 1.3\n",
    "from pyspark.sql.functions import when, lit\n",
    "df_imputed = df_cleaned.withColumn(\n",
    "    \"SALARY\",\n",
    "    when(col(\"SALARY\").isNull(), lit(median_salary)).otherwise(col(\"SALARY\"))\n",
    ")\n",
    "\n",
    "# Section 1.4\n",
    "from pyspark.sql.functions import regexp_replace\n",
    "df_cleaned = df_cleaned.withColumn(\n",
    "    \"EDUCATION_LEVELS_NAME\",\n",
    "    regexp_replace(\"EDUCATION_LEVELS_NAME\", \"[\\\\n\\\\r]\", \"\")\n",
    ")\n",
    "\n",
    "# Section 1.5\n",
    "df_cleaned.write.mode(\"overwrite\").option(\"header\", True).csv(\"data/cleaned_data.csv\")\n",
    "print(f\"Data cleaning complete. Rows retained: {df_cleaned.count()}\")"
   ]
  },
  {
   "cell_type": "code",
   "execution_count": 2,
   "id": "6981b552",
   "metadata": {},
   "outputs": [
    {
     "name": "stderr",
     "output_type": "stream",
     "text": [
      "Setting default log level to \"WARN\".\n",
      "To adjust logging level use sc.setLogLevel(newLevel). For SparkR, use setLogLevel(newLevel).\n"
     ]
    },
    {
     "name": "stderr",
     "output_type": "stream",
     "text": [
      "25/09/24 00:02:06 WARN NativeCodeLoader: Unable to load native-hadoop library for your platform... using builtin-java classes where applicable\n"
     ]
    },
    {
     "name": "stderr",
     "output_type": "stream",
     "text": [
      "\r",
      "[Stage 1:>                                                          (0 + 1) / 1]\r"
     ]
    },
    {
     "name": "stderr",
     "output_type": "stream",
     "text": [
      "\r",
      "                                                                                \r"
     ]
    },
    {
     "name": "stderr",
     "output_type": "stream",
     "text": [
      "25/09/24 00:02:25 WARN SparkStringUtils: Truncated the string representation of a plan since it was too large. This behavior can be adjusted by setting 'spark.sql.debug.maxToStringFields'.\n"
     ]
    },
    {
     "name": "stderr",
     "output_type": "stream",
     "text": [
      "\r",
      "[Stage 2:>                                                          (0 + 1) / 1]\r"
     ]
    },
    {
     "name": "stderr",
     "output_type": "stream",
     "text": [
      "\r",
      "                                                                                \r"
     ]
    },
    {
     "name": "stdout",
     "output_type": "stream",
     "text": [
      "+--------------------+--------------------+----------------------+--------------------+--------------------+--------+--------+-----------------+----------+----------+-----------+-------------------+--------------------+----+-----------------+----------------+-------+------------+--------------------+-------------------+----------------+---------------------+-------------+------------------+-------------+------------------+---------------+--------------------+--------------------+--------------------+-------------+------+-----------+----------------+-------------------+---------+-----------+--------+----+---------+------+-----------+----+--------+-----+----------+---------------+--------------------+---------------+--------------------+------------+-----------------+------------+-----------------+------+-----------+------+-----------+------+-----------+------+-----------+------+-----------+-----+----------+-----------+------+-----------+------------------+-----------------------+--------------+-------------------+-------------+------------------+---------------+--------------------+----+---------+---------+--------------+----+---------+----+---------+----+---------+----------+---------------+----------+---------------+----------+---------------+----------+---------------+---------------+--------------------+--------------+-------------------+--------------------------+-------------------------------+--------------------+-------------------------+-----------------------------+----------------------------------+-----------------+----------------------+-----------------------+----------------------------+------------------+-----------------------+-----+----------+-----+----------+-----+----------+-----+----------+-----------------+----------------------+------------+-----------------+------------+-----------------+------------+-----------------+------------+-----------------+------------+-----------------+\n",
      "|                  ID|   LAST_UPDATED_DATE|LAST_UPDATED_TIMESTAMP|          DUPLICATES|              POSTED| EXPIRED|DURATION|     SOURCE_TYPES|   SOURCES|       URL|ACTIVE_URLS|ACTIVE_SOURCES_INFO|           TITLE_RAW|BODY|  MODELED_EXPIRED|MODELED_DURATION|COMPANY|COMPANY_NAME|         COMPANY_RAW|COMPANY_IS_STAFFING|EDUCATION_LEVELS|EDUCATION_LEVELS_NAME|MIN_EDULEVELS|MIN_EDULEVELS_NAME|MAX_EDULEVELS|MAX_EDULEVELS_NAME|EMPLOYMENT_TYPE|EMPLOYMENT_TYPE_NAME|MIN_YEARS_EXPERIENCE|MAX_YEARS_EXPERIENCE|IS_INTERNSHIP|SALARY|REMOTE_TYPE|REMOTE_TYPE_NAME|ORIGINAL_PAY_PERIOD|SALARY_TO|SALARY_FROM|LOCATION|CITY|CITY_NAME|COUNTY|COUNTY_NAME| MSA|MSA_NAME|STATE|STATE_NAME|COUNTY_OUTGOING|COUNTY_NAME_OUTGOING|COUNTY_INCOMING|COUNTY_NAME_INCOMING|MSA_OUTGOING|MSA_NAME_OUTGOING|MSA_INCOMING|MSA_NAME_INCOMING|NAICS2|NAICS2_NAME|NAICS3|NAICS3_NAME|NAICS4|NAICS4_NAME|NAICS5|NAICS5_NAME|NAICS6|NAICS6_NAME|TITLE|TITLE_NAME|TITLE_CLEAN|SKILLS|SKILLS_NAME|SPECIALIZED_SKILLS|SPECIALIZED_SKILLS_NAME|CERTIFICATIONS|CERTIFICATIONS_NAME|COMMON_SKILLS|COMMON_SKILLS_NAME|SOFTWARE_SKILLS|SOFTWARE_SKILLS_NAME|ONET|ONET_NAME|ONET_2019|ONET_2019_NAME|CIP6|CIP6_NAME|CIP4|CIP4_NAME|CIP2|CIP2_NAME|SOC_2021_2|SOC_2021_2_NAME|SOC_2021_3|SOC_2021_3_NAME|SOC_2021_4|SOC_2021_4_NAME|SOC_2021_5|SOC_2021_5_NAME|LOT_CAREER_AREA|LOT_CAREER_AREA_NAME|LOT_OCCUPATION|LOT_OCCUPATION_NAME|LOT_SPECIALIZED_OCCUPATION|LOT_SPECIALIZED_OCCUPATION_NAME|LOT_OCCUPATION_GROUP|LOT_OCCUPATION_GROUP_NAME|LOT_V6_SPECIALIZED_OCCUPATION|LOT_V6_SPECIALIZED_OCCUPATION_NAME|LOT_V6_OCCUPATION|LOT_V6_OCCUPATION_NAME|LOT_V6_OCCUPATION_GROUP|LOT_V6_OCCUPATION_GROUP_NAME|LOT_V6_CAREER_AREA|LOT_V6_CAREER_AREA_NAME|SOC_2|SOC_2_NAME|SOC_3|SOC_3_NAME|SOC_4|SOC_4_NAME|SOC_5|SOC_5_NAME|LIGHTCAST_SECTORS|LIGHTCAST_SECTORS_NAME|NAICS_2022_2|NAICS_2022_2_NAME|NAICS_2022_3|NAICS_2022_3_NAME|NAICS_2022_4|NAICS_2022_4_NAME|NAICS_2022_5|NAICS_2022_5_NAME|NAICS_2022_6|NAICS_2022_6_NAME|\n",
      "+--------------------+--------------------+----------------------+--------------------+--------------------+--------+--------+-----------------+----------+----------+-----------+-------------------+--------------------+----+-----------------+----------------+-------+------------+--------------------+-------------------+----------------+---------------------+-------------+------------------+-------------+------------------+---------------+--------------------+--------------------+--------------------+-------------+------+-----------+----------------+-------------------+---------+-----------+--------+----+---------+------+-----------+----+--------+-----+----------+---------------+--------------------+---------------+--------------------+------------+-----------------+------------+-----------------+------+-----------+------+-----------+------+-----------+------+-----------+------+-----------+-----+----------+-----------+------+-----------+------------------+-----------------------+--------------+-------------------+-------------+------------------+---------------+--------------------+----+---------+---------+--------------+----+---------+----+---------+----+---------+----------+---------------+----------+---------------+----------+---------------+----------+---------------+---------------+--------------------+--------------+-------------------+--------------------------+-------------------------------+--------------------+-------------------------+-----------------------------+----------------------------------+-----------------+----------------------+-----------------------+----------------------------+------------------+-----------------------+-----+----------+-----+----------+-----+----------+-----+----------+-----------------+----------------------+------------+-----------------+------------+-----------------+------------+-----------------+------------+-----------------+------------+-----------------+\n",
      "|1f57d95acf4dc67ed...|            9/6/2024|  2024-09-06T20:32:...|                   0|            6/2/2024|6/8/2024|       6|\"[\\n  \\\"Company\\\"|      NULL|      NULL|       NULL|               NULL|                NULL|NULL|             NULL|            NULL|   NULL|        NULL|                NULL|               NULL|            NULL|                 NULL|         NULL|              NULL|         NULL|              NULL|           NULL|                NULL|                NULL|                NULL|         NULL|  NULL|       NULL|            NULL|               NULL|     NULL|       NULL|    NULL|NULL|     NULL|  NULL|       NULL|NULL|    NULL| NULL|      NULL|           NULL|                NULL|           NULL|                NULL|        NULL|             NULL|        NULL|             NULL|  NULL|       NULL|  NULL|       NULL|  NULL|       NULL|  NULL|       NULL|  NULL|       NULL| NULL|      NULL|       NULL|  NULL|       NULL|              NULL|                   NULL|          NULL|               NULL|         NULL|              NULL|           NULL|                NULL|NULL|     NULL|     NULL|          NULL|NULL|     NULL|NULL|     NULL|NULL|     NULL|      NULL|           NULL|      NULL|           NULL|      NULL|           NULL|      NULL|           NULL|           NULL|                NULL|          NULL|               NULL|                      NULL|                           NULL|                NULL|                     NULL|                         NULL|                              NULL|             NULL|                  NULL|                   NULL|                        NULL|              NULL|                   NULL| NULL|      NULL| NULL|      NULL| NULL|      NULL| NULL|      NULL|             NULL|                  NULL|        NULL|             NULL|        NULL|             NULL|        NULL|             NULL|        NULL|             NULL|        NULL|             NULL|\n",
      "|                  ]\"|\"[\\n  \\\"brassring...|                  NULL|                NULL|                NULL|    NULL|    NULL|             NULL|      NULL|      NULL|       NULL|               NULL|                NULL|NULL|             NULL|            NULL|   NULL|        NULL|                NULL|               NULL|            NULL|                 NULL|         NULL|              NULL|         NULL|              NULL|           NULL|                NULL|                NULL|                NULL|         NULL|  NULL|       NULL|            NULL|               NULL|     NULL|       NULL|    NULL|NULL|     NULL|  NULL|       NULL|NULL|    NULL| NULL|      NULL|           NULL|                NULL|           NULL|                NULL|        NULL|             NULL|        NULL|             NULL|  NULL|       NULL|  NULL|       NULL|  NULL|       NULL|  NULL|       NULL|  NULL|       NULL| NULL|      NULL|       NULL|  NULL|       NULL|              NULL|                   NULL|          NULL|               NULL|         NULL|              NULL|           NULL|                NULL|NULL|     NULL|     NULL|          NULL|NULL|     NULL|NULL|     NULL|NULL|     NULL|      NULL|           NULL|      NULL|           NULL|      NULL|           NULL|      NULL|           NULL|           NULL|                NULL|          NULL|               NULL|                      NULL|                           NULL|                NULL|                     NULL|                         NULL|                              NULL|             NULL|                  NULL|                   NULL|                        NULL|              NULL|                   NULL| NULL|      NULL| NULL|      NULL| NULL|      NULL| NULL|      NULL|             NULL|                  NULL|        NULL|             NULL|        NULL|             NULL|        NULL|             NULL|        NULL|             NULL|        NULL|             NULL|\n",
      "|                  ]\"|\"[\\n  \\\"https://s...|                  NULL|                NULL|                NULL|    NULL|    NULL|             NULL|      NULL|      NULL|       NULL|               NULL|                NULL|NULL|             NULL|            NULL|   NULL|        NULL|                NULL|               NULL|            NULL|                 NULL|         NULL|              NULL|         NULL|              NULL|           NULL|                NULL|                NULL|                NULL|         NULL|  NULL|       NULL|            NULL|               NULL|     NULL|       NULL|    NULL|NULL|     NULL|  NULL|       NULL|NULL|    NULL| NULL|      NULL|           NULL|                NULL|           NULL|                NULL|        NULL|             NULL|        NULL|             NULL|  NULL|       NULL|  NULL|       NULL|  NULL|       NULL|  NULL|       NULL|  NULL|       NULL| NULL|      NULL|       NULL|  NULL|       NULL|              NULL|                   NULL|          NULL|               NULL|         NULL|              NULL|           NULL|                NULL|NULL|     NULL|     NULL|          NULL|NULL|     NULL|NULL|     NULL|NULL|     NULL|      NULL|           NULL|      NULL|           NULL|      NULL|           NULL|      NULL|           NULL|           NULL|                NULL|          NULL|               NULL|                      NULL|                           NULL|                NULL|                     NULL|                         NULL|                              NULL|             NULL|                  NULL|                   NULL|                        NULL|              NULL|                   NULL| NULL|      NULL| NULL|      NULL| NULL|      NULL| NULL|      NULL|             NULL|                  NULL|        NULL|             NULL|        NULL|             NULL|        NULL|             NULL|        NULL|             NULL|        NULL|             NULL|\n",
      "|                  ]\"|                  []|                  NULL|Enterprise Analys...|31-May-2024\\n\\nEn...|6/8/2024|       6|           894731|Murphy USA|Murphy USA|      false|          [\\n  2\\n]|\"[  \\\"Bachelor's ...|   2|Bachelor's degree|            NULL|   NULL|           1|Full-time (> 32 h...|                  2|               2|                false|         NULL|                 0|       [None]|              NULL|           NULL|                NULL|\"{\\n  \\\"lat\\\": 33...|                NULL|         NULL|  NULL|       NULL|            NULL|               NULL|     NULL|       NULL|    NULL|NULL|     NULL|  NULL|       NULL|NULL|    NULL| NULL|      NULL|           NULL|                NULL|           NULL|                NULL|        NULL|             NULL|        NULL|             NULL|  NULL|       NULL|  NULL|       NULL|  NULL|       NULL|  NULL|       NULL|  NULL|       NULL| NULL|      NULL|       NULL|  NULL|       NULL|              NULL|                   NULL|          NULL|               NULL|         NULL|              NULL|           NULL|                NULL|NULL|     NULL|     NULL|          NULL|NULL|     NULL|NULL|     NULL|NULL|     NULL|      NULL|           NULL|      NULL|           NULL|      NULL|           NULL|      NULL|           NULL|           NULL|                NULL|          NULL|               NULL|                      NULL|                           NULL|                NULL|                     NULL|                         NULL|                              NULL|             NULL|                  NULL|                   NULL|                        NULL|              NULL|                   NULL| NULL|      NULL| NULL|      NULL| NULL|      NULL| NULL|      NULL|             NULL|                  NULL|        NULL|             NULL|        NULL|             NULL|        NULL|             NULL|        NULL|             NULL|        NULL|             NULL|\n",
      "|  \\\"lon\\\": -92.66...|                NULL|                  NULL|                NULL|                NULL|    NULL|    NULL|             NULL|      NULL|      NULL|       NULL|               NULL|                NULL|NULL|             NULL|            NULL|   NULL|        NULL|                NULL|               NULL|            NULL|                 NULL|         NULL|              NULL|         NULL|              NULL|           NULL|                NULL|                NULL|                NULL|         NULL|  NULL|       NULL|            NULL|               NULL|     NULL|       NULL|    NULL|NULL|     NULL|  NULL|       NULL|NULL|    NULL| NULL|      NULL|           NULL|                NULL|           NULL|                NULL|        NULL|             NULL|        NULL|             NULL|  NULL|       NULL|  NULL|       NULL|  NULL|       NULL|  NULL|       NULL|  NULL|       NULL| NULL|      NULL|       NULL|  NULL|       NULL|              NULL|                   NULL|          NULL|               NULL|         NULL|              NULL|           NULL|                NULL|NULL|     NULL|     NULL|          NULL|NULL|     NULL|NULL|     NULL|NULL|     NULL|      NULL|           NULL|      NULL|           NULL|      NULL|           NULL|      NULL|           NULL|           NULL|                NULL|          NULL|               NULL|                      NULL|                           NULL|                NULL|                     NULL|                         NULL|                              NULL|             NULL|                  NULL|                   NULL|                        NULL|              NULL|                   NULL| NULL|      NULL| NULL|      NULL| NULL|      NULL| NULL|      NULL|             NULL|                  NULL|        NULL|             NULL|        NULL|             NULL|        NULL|             NULL|        NULL|             NULL|        NULL|             NULL|\n",
      "+--------------------+--------------------+----------------------+--------------------+--------------------+--------+--------+-----------------+----------+----------+-----------+-------------------+--------------------+----+-----------------+----------------+-------+------------+--------------------+-------------------+----------------+---------------------+-------------+------------------+-------------+------------------+---------------+--------------------+--------------------+--------------------+-------------+------+-----------+----------------+-------------------+---------+-----------+--------+----+---------+------+-----------+----+--------+-----+----------+---------------+--------------------+---------------+--------------------+------------+-----------------+------------+-----------------+------+-----------+------+-----------+------+-----------+------+-----------+------+-----------+-----+----------+-----------+------+-----------+------------------+-----------------------+--------------+-------------------+-------------+------------------+---------------+--------------------+----+---------+---------+--------------+----+---------+----+---------+----+---------+----------+---------------+----------+---------------+----------+---------------+----------+---------------+---------------+--------------------+--------------+-------------------+--------------------------+-------------------------------+--------------------+-------------------------+-----------------------------+----------------------------------+-----------------+----------------------+-----------------------+----------------------------+------------------+-----------------------+-----+----------+-----+----------+-----+----------+-----+----------+-----------------+----------------------+------------+-----------------+------------+-----------------+------------+-----------------+------------+-----------------+------------+-----------------+\n",
      "only showing top 5 rows\n",
      "\n"
     ]
    }
   ],
   "source": [
    "#| eval: true\n",
    "#| echo: true\n",
    "#| output: true\n",
    "\n",
    "# Read the cleaned CSV data\n",
    "import pandas as pd\n",
    "import plotly.express as px\n",
    "import plotly.io as pio\n",
    "from pyspark.sql import SparkSession\n",
    "import re\n",
    "import numpy as np\n",
    "import plotly.graph_objects as go\n",
    "from pyspark.sql.functions import col, split, explode, regexp_replace, transform, when\n",
    "from pyspark.sql import functions as F\n",
    "from pyspark.sql.functions import col, monotonically_increasing_id\n",
    "\n",
    "np.random.seed(42)\n",
    "\n",
    "pio.renderers.default = \"notebook\"\n",
    "# Initialize Spark Session\n",
    "spark = SparkSession.builder.appName(\"LightcastData\").getOrCreate()\n",
    "\n",
    "# Load Data\n",
    "df = spark.read.option(\"header\", \"true\").option(\"inferSchema\", \"true\").option(\"multiLine\",\"true\").option(\"escape\", \"\\\"\").csv(\"./data/cleaned_data.csv\")\n",
    "df.createOrReplaceTempView(\"job_postings\")\n",
    "df.show(5)"
   ]
  }
 ],
 "metadata": {
  "kernelspec": {
   "display_name": "Python 3 (ipykernel)",
   "language": "python",
   "name": "python3",
   "path": "/usr/share/jupyter/kernels/python3"
  },
  "language_info": {
   "codemirror_mode": {
    "name": "ipython",
    "version": 3
   },
   "file_extension": ".py",
   "mimetype": "text/x-python",
   "name": "python",
   "nbconvert_exporter": "python",
   "pygments_lexer": "ipython3",
   "version": "3.11.0rc1"
  }
 },
 "nbformat": 4,
 "nbformat_minor": 5
}
